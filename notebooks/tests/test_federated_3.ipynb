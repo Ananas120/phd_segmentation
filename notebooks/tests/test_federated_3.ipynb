{
 "cells": [
  {
   "cell_type": "markdown",
   "id": "c7412dad-223a-483f-bd5e-4e609e02349f",
   "metadata": {},
   "source": [
    "# Test Tensorflow-federated (TFF) library\n",
    "\n",
    "## Test #3 : custom training procedure"
   ]
  },
  {
   "cell_type": "code",
   "execution_count": 1,
   "id": "ff905805-6df3-45c2-a9cd-410a7905d1e9",
   "metadata": {},
   "outputs": [
    {
     "name": "stderr",
     "output_type": "stream",
     "text": [
      "2022-11-15 11:10:46.155377: I tensorflow/core/platform/cpu_feature_guard.cc:193] This TensorFlow binary is optimized with oneAPI Deep Neural Network Library (oneDNN) to use the following CPU instructions in performance-critical operations:  AVX2 AVX512F AVX512_VNNI FMA\n",
      "To enable them in other operations, rebuild TensorFlow with the appropriate compiler flags.\n",
      "2022-11-15 11:10:46.253961: I tensorflow/core/util/util.cc:169] oneDNN custom operations are on. You may see slightly different numerical results due to floating-point round-off errors from different computation orders. To turn them off, set the environment variable `TF_ENABLE_ONEDNN_OPTS=0`.\n",
      "2022-11-15 11:10:46.278263: E tensorflow/stream_executor/cuda/cuda_blas.cc:2981] Unable to register cuBLAS factory: Attempting to register factory for plugin cuBLAS when one has already been registered\n",
      "/etinfo/users2/qlanglois/.local/lib/python3.9/site-packages/scipy/__init__.py:146: UserWarning: A NumPy version >=1.16.5 and <1.23.0 is required for this version of SciPy (detected version 1.23.4\n",
      "  warnings.warn(f\"A NumPy version >={np_minversion} and <{np_maxversion}\"\n"
     ]
    },
    {
     "name": "stdout",
     "output_type": "stream",
     "text": [
      "Tensorflow version : 2.10.0\n",
      "Tensorflow-federated version : 0.39.0\n",
      "# GPUs : 1\n"
     ]
    },
    {
     "name": "stderr",
     "output_type": "stream",
     "text": [
      "2022-11-15 11:10:56.062093: I tensorflow/core/platform/cpu_feature_guard.cc:193] This TensorFlow binary is optimized with oneAPI Deep Neural Network Library (oneDNN) to use the following CPU instructions in performance-critical operations:  AVX2 AVX512F AVX512_VNNI FMA\n",
      "To enable them in other operations, rebuild TensorFlow with the appropriate compiler flags.\n",
      "2022-11-15 11:10:56.464487: I tensorflow/core/common_runtime/gpu/gpu_device.cc:1616] Created device /job:localhost/replica:0/task:0/device:GPU:0 with 371 MB memory:  -> device: 0, name: Quadro RTX 5000, pci bus id: 0000:17:00.0, compute capability: 7.5\n"
     ]
    },
    {
     "data": {
      "text/plain": [
       "b'Hello, World!'"
      ]
     },
     "execution_count": 1,
     "metadata": {},
     "output_type": "execute_result"
    }
   ],
   "source": [
    "import os\n",
    "import collections\n",
    "import nest_asyncio\n",
    "import numpy as np\n",
    "import pandas as pd\n",
    "import tensorflow as tf\n",
    "import tensorflow_federated as tff\n",
    "\n",
    "tf.config.set_visible_devices([tf.config.list_physical_devices('GPU')[0]], 'GPU')\n",
    "\n",
    "nest_asyncio.apply()\n",
    "\n",
    "print('Tensorflow version : {}'.format(tf.__version__))\n",
    "print('Tensorflow-federated version : {}'.format(tff.__version__))\n",
    "print('# GPUs : {}'.format(len(tf.config.list_logical_devices('GPU'))))\n",
    "\n",
    "tff.federated_computation(lambda: 'Hello, World!')()"
   ]
  },
  {
   "cell_type": "code",
   "execution_count": 2,
   "id": "e0d3b094-e516-4177-83fa-7382824a94a4",
   "metadata": {},
   "outputs": [
    {
     "name": "stdout",
     "output_type": "stream",
     "text": [
      "Dataset length :\n",
      "  Train length : 3383\n",
      "  Valid length : 3383\n",
      "Data signature : OrderedDict([('label', TensorSpec(shape=(), dtype=tf.int32, name=None)), ('pixels', TensorSpec(shape=(28, 28), dtype=tf.float32, name=None))])\n"
     ]
    }
   ],
   "source": [
    "emnist_train, emnist_valid = tff.simulation.datasets.emnist.load_data()\n",
    "print('Dataset length :\\n  Train length : {}\\n  Valid length : {}'.format(\n",
    "    len(emnist_train.client_ids), len(emnist_valid.client_ids)\n",
    "))\n",
    "print('Data signature : {}'.format(emnist_train.element_type_structure))"
   ]
  },
  {
   "cell_type": "code",
   "execution_count": 3,
   "id": "0745623a-62d2-4353-ac4b-36138951f859",
   "metadata": {},
   "outputs": [
    {
     "name": "stdout",
     "output_type": "stream",
     "text": [
      "# datasets : train 25 - valid 10\n"
     ]
    }
   ],
   "source": [
    "def preprocess(dataset, epochs = 50, batch_size = 32, shuffle_size = 1024, prefetch_size = 16):\n",
    "    def batch_format_fn(data):\n",
    "        return (\n",
    "            tf.reshape(data['pixels'], [-1, 28 * 28]),\n",
    "            tf.reshape(data['label'], [-1, 1])\n",
    "        )\n",
    "    \n",
    "    return dataset.repeat(epochs).shuffle(shuffle_size, seed = 1).batch(batch_size).map(batch_format_fn).prefetch(prefetch_size)\n",
    "\n",
    "def make_federated_data(client_data, ids = None, n = None):\n",
    "    if ids is None: ids = client_data.client_ids[:n]\n",
    "    return [\n",
    "        preprocess(client_data.create_tf_dataset_for_client(x)) for x in ids\n",
    "    ]\n",
    "\n",
    "train_fed_data = make_federated_data(emnist_train, n = 25)\n",
    "valid_fed_data = make_federated_data(emnist_valid, n = 10)\n",
    "valid_data     = preprocess(emnist_valid.create_tf_dataset_from_all_clients(), epochs = 1, batch_size = 256)\n",
    "\n",
    "print('# datasets : train {} - valid {}'.format(len(train_fed_data), len(valid_fed_data)))"
   ]
  },
  {
   "cell_type": "markdown",
   "id": "a9c9dea4-c4f9-4271-ab45-de0a91fed1e4",
   "metadata": {},
   "source": [
    "## Custom training process"
   ]
  },
  {
   "cell_type": "markdown",
   "id": "a575f7ac-9878-450a-8690-4531c2cc8751",
   "metadata": {},
   "source": [
    "### `initialize()` function"
   ]
  },
  {
   "cell_type": "code",
   "execution_count": 4,
   "id": "e256805f-1b46-4133-9170-bb00d825901a",
   "metadata": {},
   "outputs": [
    {
     "name": "stdout",
     "output_type": "stream",
     "text": [
      "<float32[?,784],int32[?,1]>*\n",
      "<float32[784,32],float32[32],float32[32,10],float32[10]>\n"
     ]
    }
   ],
   "source": [
    "def build_model():\n",
    "    model = tf.keras.models.Sequential([\n",
    "        tf.keras.layers.Input(shape = (28 * 28, ), dtype = tf.int32),\n",
    "        tf.keras.layers.Dense(32, activation = 'relu'),\n",
    "        tf.keras.layers.Dense(10, activation = 'softmax')\n",
    "    ], name = 'simple_mlp')\n",
    "    model.build((None, 28 * 28))\n",
    "    return model\n",
    "\n",
    "def build_fed_model():\n",
    "    model = build_model()\n",
    "    return tff.learning.from_keras_model(\n",
    "        model,\n",
    "        input_spec = train_fed_data[0].element_spec,\n",
    "        loss       = tf.keras.losses.SparseCategoricalCrossentropy(),\n",
    "        metrics    = [tf.keras.metrics.SparseCategoricalAccuracy()]\n",
    "    )\n",
    "\n",
    "@tff.tf_computation\n",
    "def server_init():\n",
    "    model = build_fed_model()\n",
    "    return model.trainable_variables\n",
    "\n",
    "@tff.federated_computation\n",
    "def initialize_fn():\n",
    "    return tff.federated_value(server_init(), tff.SERVER)\n",
    "\n",
    "whimsy_model = build_fed_model()\n",
    "input_spec   = tff.SequenceType(whimsy_model.input_spec)\n",
    "weights_spec = server_init.type_signature.result\n",
    "\n",
    "print(input_spec)\n",
    "print(weights_spec)"
   ]
  },
  {
   "cell_type": "markdown",
   "id": "15f98da9-35ee-4cd3-833b-e544f155a110",
   "metadata": {},
   "source": [
    "### `next(server_state, federated_data)` function"
   ]
  },
  {
   "cell_type": "code",
   "execution_count": 5,
   "id": "5ac85176-ae6b-4024-8803-776fa558a89c",
   "metadata": {},
   "outputs": [],
   "source": [
    "@tf.function\n",
    "def client_update(model, dataset, server_weights, client_optimizer):\n",
    "    tf.nest.map_structure(\n",
    "        lambda w, s_w: w.assign(s_w), model.trainable_variables, server_weights\n",
    "    )\n",
    "    \n",
    "    for batch in dataset:\n",
    "        with tf.GradientTape() as tape:\n",
    "            outputs = model.forward_pass(batch)\n",
    "        \n",
    "        grads = tape.gradient(outputs.loss, model.trainable_variables)\n",
    "        client_optimizer.apply_gradients(zip(grads, model.trainable_variables))\n",
    "    \n",
    "    return model.trainable_variables\n",
    "\n",
    "@tf.function\n",
    "def server_update(model, mean_client_weights):\n",
    "    tf.nest.map_structure(\n",
    "        lambda w, new_w: w.assign(new_w), model.trainable_variables, mean_client_weights\n",
    "    )\n",
    "    return model.trainable_variables\n",
    "\n",
    "\n",
    "@tff.tf_computation(input_spec, weights_spec)\n",
    "def client_update_fn(dataset, server_weights):\n",
    "    model = build_fed_model()\n",
    "    optimizer = tf.keras.optimizers.SGD(0.1)\n",
    "    return client_update(model, dataset, server_weights, optimizer)\n",
    "\n",
    "@tff.tf_computation(weights_spec)\n",
    "def server_update_fn(mean_client_weights):\n",
    "    model = build_fed_model()\n",
    "    return server_update(model, mean_client_weights)\n"
   ]
  },
  {
   "cell_type": "code",
   "execution_count": 6,
   "id": "0ac7e29e-520c-43af-a515-3a1bebb1d0fa",
   "metadata": {},
   "outputs": [
    {
     "name": "stdout",
     "output_type": "stream",
     "text": [
      "( -> <float32[784,32],float32[32],float32[32,10],float32[10]>@SERVER)\n",
      "(<server_state=<float32[784,32],float32[32],float32[32,10],float32[10]>@SERVER,federated_data={<float32[?,784],int32[?,1]>*}@CLIENTS> -> <float32[784,32],float32[32],float32[32,10],float32[10]>@SERVER)\n"
     ]
    }
   ],
   "source": [
    "fed_server_type = tff.FederatedType(weights_spec, tff.SERVER)\n",
    "fed_data_type   = tff.FederatedType(input_spec, tff.CLIENTS)\n",
    "\n",
    "@tff.federated_computation(fed_server_type, fed_data_type)\n",
    "def next_fn(server_state, federated_data):\n",
    "    server_weights_at_client = tff.federated_broadcast(server_state)\n",
    "    \n",
    "    client_weights = tff.federated_map(\n",
    "        client_update_fn, (federated_data, server_weights_at_client)\n",
    "    )\n",
    "    \n",
    "    mean_client_weights = tff.federated_mean(client_weights)\n",
    "    \n",
    "    server_weights = tff.federated_map(\n",
    "        server_update_fn, mean_client_weights\n",
    "    )\n",
    "    \n",
    "    return server_weights\n",
    "\n",
    "iterative_process = tff.templates.IterativeProcess(\n",
    "    initialize_fn = initialize_fn,\n",
    "    next_fn = next_fn\n",
    ")\n",
    "print(iterative_process.initialize.type_signature)\n",
    "print(iterative_process.next.type_signature)"
   ]
  },
  {
   "cell_type": "markdown",
   "id": "94b60c7a-a51a-4cbd-85b5-d39fe841593b",
   "metadata": {},
   "source": [
    "## Training and evaluation"
   ]
  },
  {
   "cell_type": "code",
   "execution_count": 7,
   "id": "4f98b2b9-49f5-4f1e-baaa-973b24321070",
   "metadata": {},
   "outputs": [],
   "source": [
    "def evaluate(server_state):\n",
    "    model = build_model()\n",
    "    model.compile(\n",
    "        loss = tf.keras.losses.SparseCategoricalCrossentropy(),\n",
    "        metrics = [tf.keras.metrics.SparseCategoricalAccuracy()]\n",
    "    )\n",
    "    model.set_weights(server_state)\n",
    "    return model.evaluate(valid_data)"
   ]
  },
  {
   "cell_type": "code",
   "execution_count": 8,
   "id": "801f500d-4a7d-4de7-ae61-21e70cecbcb9",
   "metadata": {},
   "outputs": [
    {
     "name": "stdout",
     "output_type": "stream",
     "text": [
      "160/160 [==============================] - 55s 323ms/step - loss: 2.9457 - sparse_categorical_accuracy: 0.0990\n"
     ]
    },
    {
     "data": {
      "text/plain": [
       "[2.9456522464752197, 0.09896649420261383]"
      ]
     },
     "execution_count": 8,
     "metadata": {},
     "output_type": "execute_result"
    }
   ],
   "source": [
    "state = iterative_process.initialize()\n",
    "evaluate(state)"
   ]
  },
  {
   "cell_type": "code",
   "execution_count": 9,
   "id": "77e856cb-2adf-4bfb-8d34-a1fb2d53d8db",
   "metadata": {},
   "outputs": [
    {
     "name": "stdout",
     "output_type": "stream",
     "text": [
      "160/160 [==============================] - 52s 314ms/step - loss: 2.3015 - sparse_categorical_accuracy: 0.1122\n"
     ]
    },
    {
     "data": {
      "text/plain": [
       "[2.3014912605285645, 0.11224039644002914]"
      ]
     },
     "execution_count": 9,
     "metadata": {},
     "output_type": "execute_result"
    }
   ],
   "source": [
    "state = iterative_process.next(state, train_fed_data)\n",
    "evaluate(state)"
   ]
  },
  {
   "cell_type": "code",
   "execution_count": 10,
   "id": "d6d01b9b-554d-4030-9c27-d8273954d513",
   "metadata": {},
   "outputs": [
    {
     "name": "stdout",
     "output_type": "stream",
     "text": [
      "160/160 [==============================] - 61s 350ms/step - loss: 2.3020 - sparse_categorical_accuracy: 0.1122\n"
     ]
    },
    {
     "data": {
      "text/plain": [
       "[2.3019518852233887, 0.11224039644002914]"
      ]
     },
     "execution_count": 10,
     "metadata": {},
     "output_type": "execute_result"
    }
   ],
   "source": [
    "epochs = 10\n",
    "for epoch in range(2, epochs + 1):\n",
    "    print('Epoch {} / {}'.format(epoch, epochs + 1))\n",
    "    state = iterative_process.next(state, train_fed_data)\n",
    "evaluate(state)"
   ]
  },
  {
   "cell_type": "code",
   "execution_count": null,
   "id": "559a3c74-5051-4574-a9a7-78863a2ed755",
   "metadata": {},
   "outputs": [],
   "source": []
  }
 ],
 "metadata": {
  "kernelspec": {
   "display_name": "Python 3 (ipykernel)",
   "language": "python",
   "name": "python3"
  },
  "language_info": {
   "codemirror_mode": {
    "name": "ipython",
    "version": 3
   },
   "file_extension": ".py",
   "mimetype": "text/x-python",
   "name": "python",
   "nbconvert_exporter": "python",
   "pygments_lexer": "ipython3",
   "version": "3.9.7"
  }
 },
 "nbformat": 4,
 "nbformat_minor": 5
}
