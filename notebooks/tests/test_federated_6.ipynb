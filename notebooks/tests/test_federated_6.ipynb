{
 "cells": [
  {
   "cell_type": "markdown",
   "id": "c7412dad-223a-483f-bd5e-4e609e02349f",
   "metadata": {},
   "source": [
    "# Test Tensorflow-federated (TFF) library\n",
    "\n",
    "## Test #6 : complete training and (intra-client) evaluation"
   ]
  },
  {
   "cell_type": "code",
   "execution_count": null,
   "id": "ff905805-6df3-45c2-a9cd-410a7905d1e9",
   "metadata": {
    "tags": []
   },
   "outputs": [
    {
     "name": "stderr",
     "output_type": "stream",
     "text": [
      "2022-11-23 13:51:57.796278: I tensorflow/core/platform/cpu_feature_guard.cc:193] This TensorFlow binary is optimized with oneAPI Deep Neural Network Library (oneDNN) to use the following CPU instructions in performance-critical operations:  AVX2 AVX512F AVX512_VNNI FMA\n",
      "To enable them in other operations, rebuild TensorFlow with the appropriate compiler flags.\n",
      "2022-11-23 13:51:57.890471: I tensorflow/core/util/util.cc:169] oneDNN custom operations are on. You may see slightly different numerical results due to floating-point round-off errors from different computation orders. To turn them off, set the environment variable `TF_ENABLE_ONEDNN_OPTS=0`.\n",
      "2022-11-23 13:51:57.915200: E tensorflow/stream_executor/cuda/cuda_blas.cc:2981] Unable to register cuBLAS factory: Attempting to register factory for plugin cuBLAS when one has already been registered\n",
      "/etinfo/users2/qlanglois/.local/lib/python3.9/site-packages/scipy/__init__.py:146: UserWarning: A NumPy version >=1.16.5 and <1.23.0 is required for this version of SciPy (detected version 1.23.4\n",
      "  warnings.warn(f\"A NumPy version >={np_minversion} and <{np_maxversion}\"\n"
     ]
    }
   ],
   "source": [
    "import os\n",
    "import collections\n",
    "import nest_asyncio\n",
    "import numpy as np\n",
    "import pandas as pd\n",
    "import tensorflow as tf\n",
    "import tensorflow_federated as tff\n",
    "\n",
    "tf.config.set_visible_devices([tf.config.list_physical_devices('GPU')[0]], 'GPU')\n",
    "\n",
    "nest_asyncio.apply()\n",
    "\n",
    "print('Tensorflow version : {}'.format(tf.__version__))\n",
    "print('Tensorflow-federated version : {}'.format(tff.__version__))\n",
    "print('# GPUs : {}'.format(len(tf.config.list_logical_devices('GPU'))))\n",
    "\n",
    "tff.federated_computation(lambda: 'Hello, World!')()"
   ]
  },
  {
   "cell_type": "code",
   "execution_count": null,
   "id": "26c473d2-9e4a-4f98-ba6a-de2f36e72665",
   "metadata": {},
   "outputs": [],
   "source": [
    "import collections\n",
    "import tensorflow as tf\n",
    "\n",
    "from models.interfaces.base_fl_model import BaseFLModel\n",
    "from models.interfaces.base_image_model import BaseImageModel\n",
    "\n",
    "class MNISTFLClassifier(BaseImageModel, BaseFLModel):\n",
    "    def __init__(self, input_size = (28, 28, 1), n_labels = 10, ** kwargs):\n",
    "        self._init_image(input_size = input_size, ** kwargs)\n",
    "        self._init_fl(** kwargs)\n",
    "        \n",
    "        self.n_labels = n_labels\n",
    "        \n",
    "        super().__init__(** kwargs)\n",
    "    \n",
    "    def _build_model(self):\n",
    "        super()._build_model(model = {\n",
    "            'architecture_name' : 'perceptron',\n",
    "            'input_shape' : self.input_size,\n",
    "            'units'       : 32,\n",
    "            'n_dense'     : 1,\n",
    "            'activation'  : 'relu',\n",
    "            'drop_rate'   : 0.,\n",
    "            'output_shape' : self.n_labels,\n",
    "            'final_bias'   : True,\n",
    "            'final_activation' : 'softmax'\n",
    "        })\n",
    "    \n",
    "    @property\n",
    "    def output_signature(self):\n",
    "        return tf.TensorSpec(shape = (None, 1), dtype = tf.int32)\n",
    "    \n",
    "    def __str__(self):\n",
    "        des = super().__str__()\n",
    "        des += self._str_image()\n",
    "        des += self._str_fl()\n",
    "        des += '- # labels : {}\\n'.format(self.n_labels)\n",
    "        return des\n",
    "\n",
    "    def compile(self, loss = 'sparse_categorical_crossentropy', metrics = ['sparse_categorical_accuracy'], ** kwargs):\n",
    "        super().compile(loss = loss, metrics = metrics, ** kwargs)\n",
    "    \n",
    "    def preprocess_data(self, data):\n",
    "        return (\n",
    "            tf.expand_dims(data['pixels'], axis = -1),\n",
    "            tf.cast(tf.reshape(data['label'], [-1, 1]), tf.int32)\n",
    "        )\n",
    "    \n",
    "    def get_dataset_config(self, * args, ** kwargs):\n",
    "        kwargs['batch_before_map'] = True\n",
    "        return super().get_dataset_config(* args, ** kwargs)\n",
    "    \n",
    "    def get_config(self, * args, ** kwargs):\n",
    "        config = super().get_config(* args, ** kwargs)\n",
    "        config.update({\n",
    "            ** self.get_config_image(),\n",
    "            ** self.get_config_fl(),\n",
    "            'n_labels' : self.n_labels\n",
    "        })\n",
    "        return config\n",
    "    \n",
    "    \n",
    "model = MNISTFLClassifier(nom = 'test_fl_6-8')\n",
    "model.compile()\n",
    "print(model)\n",
    "model.summary()"
   ]
  },
  {
   "cell_type": "code",
   "execution_count": null,
   "id": "e0d3b094-e516-4177-83fa-7382824a94a4",
   "metadata": {
    "tags": []
   },
   "outputs": [],
   "source": [
    "emnist_train, emnist_valid = tff.simulation.datasets.emnist.load_data()\n",
    "print('Dataset length :\\n  Train length : {}\\n  Valid length : {}'.format(\n",
    "    len(emnist_train.client_ids), len(emnist_valid.client_ids)\n",
    "))\n",
    "print('Data signature : {}'.format(emnist_train.element_type_structure))"
   ]
  },
  {
   "cell_type": "markdown",
   "id": "217e6656-c0e9-4869-a5a8-85f40dfee3e9",
   "metadata": {
    "tags": []
   },
   "source": [
    "## Training"
   ]
  },
  {
   "cell_type": "code",
   "execution_count": null,
   "id": "2a03e6ae-f22f-4382-b914-499c9169cd1c",
   "metadata": {},
   "outputs": [],
   "source": [
    "from loggers import set_level\n",
    "\n",
    "set_level('info', 'models')\n",
    "h = model.train_fl(\n",
    "    emnist_train, validation_data = emnist_valid,\n",
    "    epochs      = 50,\n",
    "    batch_size  = 32,\n",
    "    train_times = 5,\n",
    "    n_clients   = 100,\n",
    "    server_optimizer_fn = {'name' : 'SGD', 'lr' : 0.5},\n",
    "    client_optimizer_fn = {'name' : 'SGD', 'lr' : 0.1},\n",
    "    use_experimental_simulation_loop = False,\n",
    "    verbose = 0\n",
    ")\n",
    "print(h)\n",
    "h.plot()"
   ]
  },
  {
   "cell_type": "code",
   "execution_count": null,
   "id": "8403b933-e86e-4df1-8e13-e6543ec4e2fc",
   "metadata": {},
   "outputs": [],
   "source": [
    "h.plot(filename = 'example_history_2.png')"
   ]
  },
  {
   "cell_type": "code",
   "execution_count": null,
   "id": "a8eacf2e-95ee-4502-97ce-1cd26d75a245",
   "metadata": {},
   "outputs": [],
   "source": []
  }
 ],
 "metadata": {
  "kernelspec": {
   "display_name": "Python 3 (ipykernel)",
   "language": "python",
   "name": "python3"
  },
  "language_info": {
   "codemirror_mode": {
    "name": "ipython",
    "version": 3
   },
   "file_extension": ".py",
   "mimetype": "text/x-python",
   "name": "python",
   "nbconvert_exporter": "python",
   "pygments_lexer": "ipython3",
   "version": "3.9.13"
  }
 },
 "nbformat": 4,
 "nbformat_minor": 5
}
